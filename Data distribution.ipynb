{
 "cells": [
  {
   "cell_type": "code",
   "execution_count": 5,
   "id": "34ea44c9-43b8-424b-a1a8-eda0730e7cc1",
   "metadata": {},
   "outputs": [],
   "source": [
    "import re\n",
    "import os\n",
    "import pandas as pd\n",
    "import numpy as np\n",
    "from scipy.stats import spearmanr, pearsonr\n",
    "import matplotlib.pyplot as plt\n",
    "# plt.style.use('ggplot')"
   ]
  },
  {
   "cell_type": "code",
   "execution_count": 43,
   "id": "a9b75cd1-3416-4d6d-b5d9-f70e46eab364",
   "metadata": {},
   "outputs": [],
   "source": [
    "path = 'C:\\\\Users\\\\moink\\\\OneDrive\\\\Desktop\\\\ReserchProject\\\\Task A\\\\'"
   ]
  },
  {
   "cell_type": "code",
   "execution_count": 44,
   "id": "6b0b2358-2f81-43d5-94c7-7b1fd1aeec62",
   "metadata": {},
   "outputs": [
    {
     "data": {
      "text/plain": [
       "['amh', 'eng', 'mar', 'tel']"
      ]
     },
     "execution_count": 44,
     "metadata": {},
     "output_type": "execute_result"
    }
   ],
   "source": [
    "os.listdir(path)"
   ]
  },
  {
   "cell_type": "code",
   "execution_count": 45,
   "id": "c2973e9c-cc6c-4746-abe7-2a4b6626b329",
   "metadata": {},
   "outputs": [],
   "source": [
    "# Iterate over each file and get the dataframes\n",
    "datasets = {}\n",
    "for file_name in os.listdir(path):\n",
    "    datasets[file_name] = pd.read_csv(f\"{path}\\\\{file_name}\\\\{file_name}_train.csv\")"
   ]
  },
  {
   "cell_type": "code",
   "execution_count": 46,
   "id": "7bf04b61-2909-4a76-b53a-fb3a93bb820f",
   "metadata": {
    "scrolled": true
   },
   "outputs": [
    {
     "data": {
      "text/html": [
       "<div>\n",
       "<style scoped>\n",
       "    .dataframe tbody tr th:only-of-type {\n",
       "        vertical-align: middle;\n",
       "    }\n",
       "\n",
       "    .dataframe tbody tr th {\n",
       "        vertical-align: top;\n",
       "    }\n",
       "\n",
       "    .dataframe thead th {\n",
       "        text-align: right;\n",
       "    }\n",
       "</style>\n",
       "<table border=\"1\" class=\"dataframe\">\n",
       "  <thead>\n",
       "    <tr style=\"text-align: right;\">\n",
       "      <th></th>\n",
       "      <th>language</th>\n",
       "      <th>size</th>\n",
       "    </tr>\n",
       "  </thead>\n",
       "  <tbody>\n",
       "    <tr>\n",
       "      <th>0</th>\n",
       "      <td>amh</td>\n",
       "      <td>992</td>\n",
       "    </tr>\n",
       "    <tr>\n",
       "      <th>1</th>\n",
       "      <td>eng</td>\n",
       "      <td>250</td>\n",
       "    </tr>\n",
       "    <tr>\n",
       "      <th>2</th>\n",
       "      <td>mar</td>\n",
       "      <td>1200</td>\n",
       "    </tr>\n",
       "    <tr>\n",
       "      <th>3</th>\n",
       "      <td>tel</td>\n",
       "      <td>1170</td>\n",
       "    </tr>\n",
       "  </tbody>\n",
       "</table>\n",
       "</div>"
      ],
      "text/plain": [
       "  language  size\n",
       "0      amh   992\n",
       "1      eng   250\n",
       "2      mar  1200\n",
       "3      tel  1170"
      ]
     },
     "execution_count": 46,
     "metadata": {},
     "output_type": "execute_result"
    }
   ],
   "source": [
    "pd.DataFrame([{\"language\":key, \"size\":value.shape[0]}for key, value in datasets.items()])"
   ]
  },
  {
   "cell_type": "code",
   "execution_count": 89,
   "id": "bcc120e1-6291-4b56-9a83-c05bff23fb24",
   "metadata": {},
   "outputs": [],
   "source": [
    "names = {\"amh\":\"Amharic\", \"eng\":\"English\", \"mar\":\"Marathi\", \"tel\":\"Telugu\"}"
   ]
  },
  {
   "cell_type": "code",
   "execution_count": 90,
   "id": "cd398924-2451-4803-9ac5-f40861e86568",
   "metadata": {},
   "outputs": [
    {
     "data": {
      "text/html": [
       "<div>\n",
       "<style scoped>\n",
       "    .dataframe tbody tr th:only-of-type {\n",
       "        vertical-align: middle;\n",
       "    }\n",
       "\n",
       "    .dataframe tbody tr th {\n",
       "        vertical-align: top;\n",
       "    }\n",
       "\n",
       "    .dataframe thead th {\n",
       "        text-align: right;\n",
       "    }\n",
       "</style>\n",
       "<table border=\"1\" class=\"dataframe\">\n",
       "  <thead>\n",
       "    <tr style=\"text-align: right;\">\n",
       "      <th></th>\n",
       "      <th>Text1</th>\n",
       "      <th>Text2</th>\n",
       "      <th>Score</th>\n",
       "    </tr>\n",
       "  </thead>\n",
       "  <tbody>\n",
       "    <tr>\n",
       "      <th>0</th>\n",
       "      <td>The story is gripping and interesting.</td>\n",
       "      <td>It's a brilliant, compelling, and heartfelt st...</td>\n",
       "      <td>0.64</td>\n",
       "    </tr>\n",
       "    <tr>\n",
       "      <th>1</th>\n",
       "      <td>The majority of Southeast Alaska 's area is pa...</td>\n",
       "      <td>A lot of of the panhandle is part of the Tonga...</td>\n",
       "      <td>0.61</td>\n",
       "    </tr>\n",
       "    <tr>\n",
       "      <th>2</th>\n",
       "      <td>and from your post i think you are to young to...</td>\n",
       "      <td>I think it will be very bad if he acquires her...</td>\n",
       "      <td>0.31</td>\n",
       "    </tr>\n",
       "    <tr>\n",
       "      <th>3</th>\n",
       "      <td>The film 's success also made Dreamworks Anima...</td>\n",
       "      <td>There have also been two sequels -LRB- follow-...</td>\n",
       "      <td>0.59</td>\n",
       "    </tr>\n",
       "    <tr>\n",
       "      <th>4</th>\n",
       "      <td>I am still confused about how I feel about thi...</td>\n",
       "      <td>In this particular book, Blue and Gansey are s...</td>\n",
       "      <td>0.50</td>\n",
       "    </tr>\n",
       "    <tr>\n",
       "      <th>...</th>\n",
       "      <td>...</td>\n",
       "      <td>...</td>\n",
       "      <td>...</td>\n",
       "    </tr>\n",
       "    <tr>\n",
       "      <th>245</th>\n",
       "      <td>thats just how they are :( its a shame lol</td>\n",
       "      <td>It is a shame that they are like that.</td>\n",
       "      <td>0.50</td>\n",
       "    </tr>\n",
       "    <tr>\n",
       "      <th>246</th>\n",
       "      <td>I feel sorry for the books that I will read af...</td>\n",
       "      <td>: More than one person recommended this book t...</td>\n",
       "      <td>0.48</td>\n",
       "    </tr>\n",
       "    <tr>\n",
       "      <th>247</th>\n",
       "      <td>Uwe Seeler -LRB- born 5 November 1936 in Hambu...</td>\n",
       "      <td>Alain Giresse -LRB- born 2 August 1952 in Lang...</td>\n",
       "      <td>0.58</td>\n",
       "    </tr>\n",
       "    <tr>\n",
       "      <th>248</th>\n",
       "      <td>Waco is a city in and the county seat of McLen...</td>\n",
       "      <td>It is the county seat of Morris County .</td>\n",
       "      <td>0.40</td>\n",
       "    </tr>\n",
       "    <tr>\n",
       "      <th>249</th>\n",
       "      <td>religious extremism continues in pakistan desp...</td>\n",
       "      <td>religious extremism continues in pakistan desp...</td>\n",
       "      <td>0.91</td>\n",
       "    </tr>\n",
       "  </tbody>\n",
       "</table>\n",
       "<p>250 rows × 3 columns</p>\n",
       "</div>"
      ],
      "text/plain": [
       "                                                 Text1   \n",
       "0               The story is gripping and interesting.  \\\n",
       "1    The majority of Southeast Alaska 's area is pa...   \n",
       "2    and from your post i think you are to young to...   \n",
       "3    The film 's success also made Dreamworks Anima...   \n",
       "4    I am still confused about how I feel about thi...   \n",
       "..                                                 ...   \n",
       "245         thats just how they are :( its a shame lol   \n",
       "246  I feel sorry for the books that I will read af...   \n",
       "247  Uwe Seeler -LRB- born 5 November 1936 in Hambu...   \n",
       "248  Waco is a city in and the county seat of McLen...   \n",
       "249  religious extremism continues in pakistan desp...   \n",
       "\n",
       "                                                 Text2  Score  \n",
       "0    It's a brilliant, compelling, and heartfelt st...   0.64  \n",
       "1    A lot of of the panhandle is part of the Tonga...   0.61  \n",
       "2    I think it will be very bad if he acquires her...   0.31  \n",
       "3    There have also been two sequels -LRB- follow-...   0.59  \n",
       "4    In this particular book, Blue and Gansey are s...   0.50  \n",
       "..                                                 ...    ...  \n",
       "245             It is a shame that they are like that.   0.50  \n",
       "246  : More than one person recommended this book t...   0.48  \n",
       "247  Alain Giresse -LRB- born 2 August 1952 in Lang...   0.58  \n",
       "248           It is the county seat of Morris County .   0.40  \n",
       "249  religious extremism continues in pakistan desp...   0.91  \n",
       "\n",
       "[250 rows x 3 columns]"
      ]
     },
     "execution_count": 90,
     "metadata": {},
     "output_type": "execute_result"
    }
   ],
   "source": [
    "datasets[\"eng\"]"
   ]
  },
  {
   "cell_type": "code",
   "execution_count": 56,
   "id": "3520416b-348b-4af3-a749-60153efa5120",
   "metadata": {
    "scrolled": true
   },
   "outputs": [],
   "source": [
    "# Creating a column \"Split_Text\" which is a list of two sentences.\n",
    "for key, value in datasets.items():\n",
    "    try:\n",
    "        \n",
    "        value['Text1'], value['Text2'] = list(zip(*[text.split(\"\\n\") for text in value['Text'].values]))\n",
    "    except Exception as err:\n",
    "        value['Text1'], value['Text2'] = list(zip(*[text.split(\"\\t\") for text in value['Text'].values]))\n",
    "\n",
    "    \n",
    "\n",
    "    datasets[key] = value[[\"Text1\", \"Text2\", \"Score\"]]"
   ]
  },
  {
   "cell_type": "code",
   "execution_count": 95,
   "id": "28bd7d90-71f5-4bf5-bc49-442422e07283",
   "metadata": {},
   "outputs": [],
   "source": [
    "# fig = plt.figure()\n",
    "\n",
    "# for index, (key, value) in enumerate(datasets.items()):\n",
    "#     plt.subplot(2, 2, index+1)\n",
    "#     plt.hist(value.Score.values, bins=10, color='skyblue', edgecolor='black', alpha=0.7)\n",
    "#     # plt.subplots_adjust(left=margin, right=1-margin, bottom=margin, top=1-margin, wspace=0.4, hspace=0.4)\n",
    "#     plt.xlabel('Score')\n",
    "#     plt.ylabel('Count')\n",
    "#     plt.title('Distribution of Semantic Textual Relatedness Scores for Telugu sentence pairs')\n",
    "#     plt.grid(axis='y', linestyle='--', alpha=0.7)"
   ]
  },
  {
   "cell_type": "code",
   "execution_count": 122,
   "id": "325b7baa-e2fc-4765-b726-098833cd587e",
   "metadata": {},
   "outputs": [
    {
     "data": {
      "image/png": "[encoded data removed]",
      "text/plain": [
       "<Figure size 640x480 with 4 Axes>"
      ]
     },
     "metadata": {},
     "output_type": "display_data"
    }
   ],
   "source": [
    "import matplotlib.pyplot as plt\n",
    "\n",
    "fig = plt.figure()\n",
    "margin = 0.1\n",
    "\n",
    "for index, (key, value) in enumerate(datasets.items()):\n",
    "    plt.subplot(2, 2, index+1)\n",
    "    plt.hist(value.Score.values, bins=10, color='skyblue', edgecolor='black', alpha=0.7)\n",
    "    plt.subplots_adjust(left=margin, right=1-margin, bottom=margin, top=1-margin, wspace=0.9, hspace=0.4)\n",
    "    plt.xlabel('Score')\n",
    "    plt.ylabel('Count')\n",
    "    plt.title(names[key])\n",
    "    plt.grid(axis='y', linestyle='--', alpha=0.7)\n",
    "\n",
    "# Set a common title for all subplots with a margin above it\n",
    "plt.suptitle('Distribution of Semantic Textual Relatedness Scores ', y=0.95, fontsize=16)\n",
    "\n",
    "plt.show()\n"
   ]
  },
  {
   "cell_type": "code",
   "execution_count": null,
   "id": "0d2d7200-2cad-496f-9858-f7c93971c6b9",
   "metadata": {},
   "outputs": [],
   "source": []
  }
 ],
 "metadata": {
  "kernelspec": {
   "display_name": "Python 3 (ipykernel)",
   "language": "python",
   "name": "python3"
  },
  "language_info": {
   "codemirror_mode": {
    "name": "ipython",
    "version": 3
   },
   "file_extension": ".py",
   "mimetype": "text/x-python",
   "name": "python",
   "nbconvert_exporter": "python",
   "pygments_lexer": "ipython3",
   "version": "3.11.3"
  }
 },
 "nbformat": 4,
 "nbformat_minor": 5
}
